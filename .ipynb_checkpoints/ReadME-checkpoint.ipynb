{
 "cells": [
  {
   "cell_type": "markdown",
   "metadata": {},
   "source": [
    "## Hi there 👋\n",
    "\n",
    "### Intro\n",
    "\n",
    "🔭 I’m currently working on SQL databases and analysis   <br>\n",
    "🌱 I’m currently learning cloud computing      <br>\n",
    "🤔 I’m looking for help with understanding the ins and outs of cloud computing     <br>\n",
    "💬 Talk me about anything! I am always open to talk and discuss everything.    <br>\n",
    "😄 Pronouns: She/Her/Hers   <br>\n",
    "⚡ Fun fact: I really like hiking and Marvel Superheros (especially Iron Man)    <br>\n"
   ]
  },
  {
   "cell_type": "markdown",
   "metadata": {},
   "source": [
    "---"
   ]
  },
  {
   "cell_type": "markdown",
   "metadata": {},
   "source": [
    "### About Me\n",
    "\n",
    "Hi again, my name is Alisa Radjabova. I am a Data Analyst/Data Scientist. I have expereience in bringing insight from data and creating new insightful stories. I am a thorough and meticulous Data Analyst passionate about helping businesses succeed by leveraging data analytical skills to improve business performance. Possess strong technical skills rooted in substantial training.\n",
    "\n",
    "Process-oriented with experience in interpreting and analyzing data to drive growth. Furnish insights, analytics, and business intelligence in clear understandable presentations and dashboards.  Flexible and proficient in documenting, interpreting, and analyzing data in a dynamic environment. \n",
    "\n",
    "I have a passion for learning, growing, implementing my analytical skills further.  I am a huge believer in pursuing your curiosity and an even bigger advocate in learning from the people around you.\n",
    "\n",
    "People always underestimate me, whether it be in my schooling, jobs or even decisions, but I am passionate about everything I dedicate myself to. I strive to absorb everything from every oppertunity I get and am able to outwork my past self each time.\n",
    "\n",
    "I am always learning, building and growing; I may not know everything there is to know, but I know where to look and I know I will learn it. With that, I love connecting with people and being able to share ideas and thoughts, so please reach out if you want someone to talk to.\n",
    "\n",
    "\n"
   ]
  },
  {
   "cell_type": "markdown",
   "metadata": {},
   "source": [
    "---"
   ]
  },
  {
   "cell_type": "markdown",
   "metadata": {},
   "source": [
    "### Connect With Me  \n",
    "Whether you have a question or just want someone to talk to about anything related, feel free to reach out :smiley:\n",
    "\n",
    "[<img align=\"left\" alt=\"LinkedIn\" width=\"80\" style=\"margin:10px\" src=\"./images/linkedin.png\" />]( http://www.linkedin.com/in/alisaradjabova)\n",
    "[<img align=\"left\" alt=\"Medium\" width=\"60\" style=\"margin:10px\" src=\"./images/medium.png\" />]( https://alisaradjabova.medium.com/)\n",
    "[<img align=\"left\" alt=\"Email\" width=\"30\" style=\"margin:10px\" src=\"./images/email.png\" />]( mailto:alisaradjabova@gmail.com)\n",
    "\n"
   ]
  },
  {
   "cell_type": "markdown",
   "metadata": {},
   "source": [
    "---"
   ]
  },
  {
   "cell_type": "markdown",
   "metadata": {},
   "source": [
    "### Languages and Tools\n",
    "\n",
    "<img align=\"left\" alt=\"Python\" width=\"35\" src=\"https://raw.githubusercontent.com/github/explore/80688e429a7d4ef2fca1e82350fe8e3517d3494d/topics/python/python.png\" />\n",
    "<img align=\"left\" alt=\"SQL\" width=\"35\" style=\"margin:10px\"src=\"https://raw.githubusercontent.com/github/explore/80688e429a7d4ef2fca1e82350fe8e3517d3494d/topics/sql/sql.png\" />\n",
    "<img align=\"left\" alt=\"MySQL\" width=\"40px\"style=\"margin:10px\" src=\"https://raw.githubusercontent.com/github/explore/80688e429a7d4ef2fca1e82350fe8e3517d3494d/topics/mysql/mysql.png\" />\n",
    "<img align=\"left\" alt=\"Git\" width=\"35\" style=\"margin:10px\"src=\"https://raw.githubusercontent.com/github/explore/80688e429a7d4ef2fca1e82350fe8e3517d3494d/topics/git/git.png\" />\n",
    "<img align=\"left\" alt=\"GitHub\" width=\"35\" style=\"margin:10px\"src=\"https://raw.githubusercontent.com/github/explore/78df643247d429f6cc873026c0622819ad797942/topics/github/github.png\" />\n",
    "<img align=\"left\" alt=\"Terminal\" width=\"35\" style=\"margin:10px\" src=\"https://raw.githubusercontent.com/github/explore/80688e429a7d4ef2fca1e82350fe8e3517d3494d/topics/terminal/terminal.png\" />\n",
    "<img align=\"left\" alt=\"Terminal\" width=\"35\" style=\"margin:10px\" src=\"./images/ibmdb2.png\" />\n"
   ]
  },
  {
   "cell_type": "markdown",
   "metadata": {},
   "source": [
    "<img align=\"left\" alt=\"Microsoft\" width=\"30\" style=\"margin:10px\" src=\"./images/microsoft.png\" />\n",
    "<img align=\"left\" alt=\"Colab\" width=\"40\" style=\"margin:8px\" src=\"./images/colab.png\" />\n",
    "<img align=\"left\" alt=\"Jupyter\" width=\"35\" style=\"margin:10px\" src=\"./images/jupyter.png\" />\n",
    "<img align=\"left\" alt=\"Tableau\" width=\"70\" style=\"margin:10px\" src=\"./images/tableau.png\" />\n",
    "<img align=\"left\" alt=\"Cognos\" width=\"40\" style=\"margin:10px;padding-top: 10px\" src=\"./images/cognos.png\" />\n",
    "<img align=\"left\" alt=\"Excel\" width=\"40\" style=\"margin:10px\" src=\"./images/excel.png\" />\n",
    "\n"
   ]
  },
  {
   "cell_type": "markdown",
   "metadata": {},
   "source": [
    "<img align=\"left\" alt=\"Numpy\" width=\"60\" style=\"margin:10px\" src=\"./images/numpy.png\" />\n",
    "<img align=\"left\" alt=\"Pandas\" width=\"65\" style=\"margin:10px\" src=\"./images/pandas.png\" />\n",
    "<img align=\"left\" alt=\"Matplotlib\" width=\"65\" style=\"margin:10px\" src=\"./images/matplotlib.png\" />\n",
    "<img align=\"left\" alt=\"Scipy\" width=\"60\" style=\"margin:10px\" src=\"./images/scipy.png\" />\n",
    "<img align=\"left\" alt=\"Sklearn\" width=\"35\" style=\"margin:10px\" src=\"./images/sklearn.png\" />\n",
    "<img align=\"left\" alt=\"Keras\" width=\"60\" style=\"margin:10px\" src=\"./images/keras.png\" />\n",
    "\n"
   ]
  },
  {
   "cell_type": "markdown",
   "metadata": {},
   "source": [
    "***"
   ]
  },
  {
   "cell_type": "markdown",
   "metadata": {},
   "source": [
    "[![Alisa's GitHub Stats}](https://github-readme-stats.vercel.app/api?username=aradjabova)](https://github.com/aradjabova/github-readme-stats )"
   ]
  }
 ],
 "metadata": {
  "celltoolbar": "Raw Cell Format",
  "kernelspec": {
   "display_name": "Python 3",
   "language": "python",
   "name": "python3"
  },
  "language_info": {
   "codemirror_mode": {
    "name": "ipython",
    "version": 3
   },
   "file_extension": ".py",
   "mimetype": "text/x-python",
   "name": "python",
   "nbconvert_exporter": "python",
   "pygments_lexer": "ipython3",
   "version": "3.6.12"
  },
  "toc": {
   "base_numbering": 1,
   "nav_menu": {},
   "number_sections": true,
   "sideBar": true,
   "skip_h1_title": false,
   "title_cell": "Table of Contents",
   "title_sidebar": "Contents",
   "toc_cell": false,
   "toc_position": {},
   "toc_section_display": true,
   "toc_window_display": false
  }
 },
 "nbformat": 4,
 "nbformat_minor": 4
}
